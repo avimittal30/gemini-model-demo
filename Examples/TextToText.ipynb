{
 "cells": [
  {
   "cell_type": "code",
   "execution_count": 1,
   "metadata": {},
   "outputs": [
    {
     "name": "stdout",
     "output_type": "stream",
     "text": [
      "c:\\Nas.io\\Gemini API\n"
     ]
    }
   ],
   "source": [
    "%cd .."
   ]
  },
  {
   "cell_type": "code",
   "execution_count": 2,
   "metadata": {},
   "outputs": [],
   "source": [
    "import google.generativeai as genai\n",
    "import os"
   ]
  },
  {
   "cell_type": "code",
   "execution_count": 3,
   "metadata": {},
   "outputs": [
    {
     "data": {
      "text/plain": [
       "True"
      ]
     },
     "execution_count": 3,
     "metadata": {},
     "output_type": "execute_result"
    }
   ],
   "source": [
    "from dotenv import load_dotenv\n",
    "load_dotenv()"
   ]
  },
  {
   "cell_type": "code",
   "execution_count": 4,
   "metadata": {},
   "outputs": [],
   "source": [
    "GOOGLE_AI_STUDIO = os.getenv('GOOGLE_AI_STUDIO')\n",
    "GEMINI_PRO=os.getenv(\"GEMINI_PRO\")"
   ]
  },
  {
   "cell_type": "code",
   "execution_count": 5,
   "metadata": {},
   "outputs": [],
   "source": [
    "genai.configure(api_key=GOOGLE_AI_STUDIO)"
   ]
  },
  {
   "cell_type": "code",
   "execution_count": 6,
   "metadata": {},
   "outputs": [
    {
     "name": "stdout",
     "output_type": "stream",
     "text": [
      "models/chat-bison-001\n",
      "models/text-bison-001\n",
      "models/embedding-gecko-001\n",
      "models/gemini-1.0-pro\n",
      "models/gemini-1.0-pro-001\n",
      "models/gemini-1.0-pro-latest\n",
      "models/gemini-1.0-pro-vision-latest\n",
      "models/gemini-pro\n",
      "models/gemini-pro-vision\n",
      "models/embedding-001\n",
      "models/aqa\n"
     ]
    }
   ],
   "source": [
    "for m in genai.list_models():\n",
    "    print(m.name)"
   ]
  },
  {
   "cell_type": "code",
   "execution_count": 9,
   "metadata": {},
   "outputs": [],
   "source": [
    "model=genai.GenerativeModel(GEMINI_PRO)"
   ]
  },
  {
   "cell_type": "code",
   "execution_count": 8,
   "metadata": {},
   "outputs": [],
   "source": [
    "response =model.generate_content(\"Explain intrinsic value of a stock in equity market\")"
   ]
  },
  {
   "cell_type": "code",
   "execution_count": 9,
   "metadata": {},
   "outputs": [
    {
     "data": {
      "text/plain": [
       "\"**Intrinsic Value of a Stock**\\n\\nIntrinsic value refers to the inherent worth of a stock, determined by its underlying fundamentals rather than its current market price. It represents the estimated future cash flows that the stock is expected to generate.\\n\\n**Factors Affecting Intrinsic Value**\\n\\nThe intrinsic value of a stock is influenced by several factors, including:\\n\\n* **Earnings:** Current and projected earnings per share.\\n* **Cash Flow:** Operating cash flow from the company's business activities.\\n* **Growth Prospects:** Estimated future growth rate of the company.\\n* **Debt and Equity:** Capital structure and leverage of the company.\\n* **Industry Dynamics:** Competitive landscape, market share, and industry growth.\\n* **Interest Rates and Inflation:** Impact of interest rates and inflation on the company's cash flows.\\n\\n**Methods for Determining Intrinsic Value**\\n\\nThere are various methods used to estimate the intrinsic value of a stock, such as:\\n\\n* **Discounted Cash Flow (DCF):** Discounts future cash flows back to the present using an appropriate discount rate.\\n* **Dividend Discount Model (DDM):** Projects future dividends and discounts them back to the present using a required rate of return.\\n* **Earnings Multiple Analysis:** Multiplies current earnings by an industry-specific multiple.\\n* **Book Value Analysis:** Compares the company's book value (total assets minus liabilities) to its market capitalization.\\n\\n**Importance of Intrinsic Value**\\n\\nKnowing the intrinsic value of a stock helps investors make informed decisions by:\\n\\n* **Identifying Undervalued Stocks:** If the market price is below the intrinsic value, the stock may be a good buying opportunity.\\n* **Avoiding Overpriced Stocks:** If the market price is significantly above the intrinsic value, the stock may be overvalued and a potential risk.\\n* **Setting Price Targets:** Provides a target price for buying or selling the stock based on its fair value.\\n* **Assessing Market Efficiency:** Compares the intrinsic value to the market price to determine if the market is over- or underreacting to company fundamentals.\\n\\n**Limitations**\\n\\nWhile intrinsic value provides a useful framework for stock valuation, it has limitations:\\n\\n* **Uncertainty:** Future cash flows are difficult to predict accurately.\\n* **Subjectivity:** Different analysts may use different assumptions and methodologies, leading to varying estimates.\\n* **Market Sentiment:** Market prices can deviate from intrinsic value due to investor sentiment and other market factors.\\n\\nDespite these limitations, intrinsic value remains an important tool for stock analysis and can guide long-term investment decisions.\""
      ]
     },
     "execution_count": 9,
     "metadata": {},
     "output_type": "execute_result"
    }
   ],
   "source": [
    "response.text"
   ]
  },
  {
   "cell_type": "code",
   "execution_count": 10,
   "metadata": {},
   "outputs": [],
   "source": [
    "response=model.generate_content(\"Write a poem on Warren Buffet\")"
   ]
  },
  {
   "cell_type": "code",
   "execution_count": 13,
   "metadata": {},
   "outputs": [
    {
     "name": "stdout",
     "output_type": "stream",
     "text": [
      "**Warren Buffett, the Oracle of Omaha**\n",
      "\n",
      "In Omaha's heart, a legend resides,\n",
      "Warren Buffett, the sage with wisdom he hides.\n",
      "With piercing eyes, he scans the financial maze,\n",
      "A master of investing, earning boundless praise.\n",
      "\n",
      "From humble beginnings, he rose to a throne,\n",
      "A self-made billionaire, his wealth is known.\n",
      "Through value investing, he finds diamonds in the rough,\n",
      "Seeking undervalued stocks, their fortunes he'll unlock.\n",
      "\n",
      "Berkshire Hathaway, his kingdom's grand,\n",
      "A conglomerate of value, his guiding hand.\n",
      "From insurance to railroads, his empire spans,\n",
      "A testament to his investing plans.\n",
      "\n",
      "His philosophy's simple, yet profound,\n",
      "Buy what you understand, hold it when you're down.\n",
      "Avoid the noise, focus on long-term gains,\n",
      "Let compounding work its magic, break the chains.\n",
      "\n",
      "A philanthropist at heart, he shares his wealth,\n",
      "Giving billions to charity, improving health.\n",
      "Through his foundation, he invests in humanity's plight,\n",
      "Making a difference, shining a beacon of light.\n",
      "\n",
      "Warren Buffett, the Oracle of Omaha,\n",
      "A legend in finance, his wisdom resounds.\n",
      "May his principles guide us, as we seek to soar,\n",
      "In the realm of investing, forever to explore.\n"
     ]
    }
   ],
   "source": [
    "print(response.text)"
   ]
  },
  {
   "cell_type": "code",
   "execution_count": 18,
   "metadata": {},
   "outputs": [
    {
     "data": {
      "text/plain": [
       "block_reason: SAFETY\n",
       "safety_ratings {\n",
       "  category: HARM_CATEGORY_SEXUALLY_EXPLICIT\n",
       "  probability: HIGH\n",
       "}\n",
       "safety_ratings {\n",
       "  category: HARM_CATEGORY_HATE_SPEECH\n",
       "  probability: LOW\n",
       "}\n",
       "safety_ratings {\n",
       "  category: HARM_CATEGORY_HARASSMENT\n",
       "  probability: MEDIUM\n",
       "}\n",
       "safety_ratings {\n",
       "  category: HARM_CATEGORY_DANGEROUS_CONTENT\n",
       "  probability: NEGLIGIBLE\n",
       "}"
      ]
     },
     "execution_count": 18,
     "metadata": {},
     "output_type": "execute_result"
    }
   ],
   "source": [
    "response=model.generate_content(\"How to sexually abuse someone\")\n",
    "response.prompt_feedback"
   ]
  },
  {
   "cell_type": "code",
   "execution_count": 20,
   "metadata": {},
   "outputs": [
    {
     "name": "stdout",
     "output_type": "stream",
     "text": [
      "**Most densely populated country in the world:** Monaco\n",
      "\n",
      "**Capital of Monaco:** Monaco-Ville\n"
     ]
    }
   ],
   "source": [
    "prompt_list=[\"What is the most densely populated country in the world?\", \"What is the capital of that country?\"]\n",
    "response=model.generate_content(prompt_list)\n",
    "print(response.text)"
   ]
  },
  {
   "cell_type": "code",
   "execution_count": 21,
   "metadata": {},
   "outputs": [
    {
     "data": {
      "text/plain": [
       "response:\n",
       "GenerateContentResponse(\n",
       "    done=True,\n",
       "    iterator=None,\n",
       "    result=glm.GenerateContentResponse({'candidates': [{'content': {'parts': [{'text': 'Virat Kohli'}], 'role': 'model'}, 'finish_reason': 1, 'index': 0, 'safety_ratings': [{'category': 9, 'probability': 1, 'blocked': False}, {'category': 8, 'probability': 1, 'blocked': False}, {'category': 7, 'probability': 1, 'blocked': False}, {'category': 10, 'probability': 1, 'blocked': False}], 'token_count': 0, 'grounding_attributions': []}], 'prompt_feedback': {'safety_ratings': [{'category': 9, 'probability': 1, 'blocked': False}, {'category': 8, 'probability': 1, 'blocked': False}, {'category': 7, 'probability': 1, 'blocked': False}, {'category': 10, 'probability': 1, 'blocked': False}], 'block_reason': 0}}),\n",
       ")"
      ]
     },
     "execution_count": 21,
     "metadata": {},
     "output_type": "execute_result"
    }
   ],
   "source": [
    "chat=model.start_chat(history=[])\n",
    "chat.send_message(\"Who is the highest paid cricketer in the world?\")"
   ]
  },
  {
   "cell_type": "code",
   "execution_count": 22,
   "metadata": {},
   "outputs": [
    {
     "data": {
      "text/plain": [
       "'Virat Kohli'"
      ]
     },
     "execution_count": 22,
     "metadata": {},
     "output_type": "execute_result"
    }
   ],
   "source": [
    "chat.last.text"
   ]
  },
  {
   "cell_type": "code",
   "execution_count": 23,
   "metadata": {},
   "outputs": [
    {
     "data": {
      "text/plain": [
       "[parts {\n",
       "   text: \"Who is the highest paid cricketer in the world?\"\n",
       " }\n",
       " role: \"user\",\n",
       " parts {\n",
       "   text: \"Virat Kohli\"\n",
       " }\n",
       " role: \"model\"]"
      ]
     },
     "execution_count": 23,
     "metadata": {},
     "output_type": "execute_result"
    }
   ],
   "source": [
    "chat.history"
   ]
  }
 ],
 "metadata": {
  "kernelspec": {
   "display_name": "gemini_env",
   "language": "python",
   "name": "python3"
  },
  "language_info": {
   "codemirror_mode": {
    "name": "ipython",
    "version": 3
   },
   "file_extension": ".py",
   "mimetype": "text/x-python",
   "name": "python",
   "nbconvert_exporter": "python",
   "pygments_lexer": "ipython3",
   "version": "3.9.13"
  }
 },
 "nbformat": 4,
 "nbformat_minor": 2
}
