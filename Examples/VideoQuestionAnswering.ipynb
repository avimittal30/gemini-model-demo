{
 "cells": [
  {
   "cell_type": "code",
   "execution_count": 1,
   "metadata": {},
   "outputs": [
    {
     "name": "stdout",
     "output_type": "stream",
     "text": [
      "c:\\Nas.io\\Gemini API\n"
     ]
    }
   ],
   "source": [
    "%cd .."
   ]
  },
  {
   "cell_type": "code",
   "execution_count": 3,
   "metadata": {},
   "outputs": [],
   "source": [
    "from vertexai.preview.generative_models import (\n",
    "    GenerativeModel,\n",
    "    Part,\n",
    ")\n",
    "from google.oauth2 import service_account  # importing auth using service_account\n",
    "import json\n",
    "\n",
    "import os\n",
    "import base64"
   ]
  },
  {
   "cell_type": "code",
   "execution_count": 4,
   "metadata": {},
   "outputs": [],
   "source": [
    "with open(os.getenv(\"GOOGLE_APPLICATION_CREDENTIALS\"), \"r\") as source:\n",
    "    info = json.load(source)\n",
    "    service_account.Credentials.from_service_account_info(info)\n",
    "\n",
    "GEMINI_PRO_VISION = os.getenv(\"GEMINI_PRO_VISION\")"
   ]
  },
  {
   "cell_type": "code",
   "execution_count": 5,
   "metadata": {},
   "outputs": [],
   "source": [
    "multimodal_model = GenerativeModel(GEMINI_PRO_VISION)"
   ]
  },
  {
   "cell_type": "code",
   "execution_count": 6,
   "metadata": {},
   "outputs": [],
   "source": [
    "def convert_file_to_data(file_path: str, mime_type: str):\n",
    "    with open(file_path, \"rb\") as file:\n",
    "        data = base64.b64encode(file.read())\n",
    "        file_data = Part.from_data(data=base64.b64decode(data), mime_type=mime_type)\n",
    "        return file_data"
   ]
  },
  {
   "cell_type": "code",
   "execution_count": 8,
   "metadata": {},
   "outputs": [
    {
     "name": "stdout",
     "output_type": "stream",
     "text": [
      "\n",
      "-------Response--------\n",
      " ```json\n",
      "{\n",
      "  \"profession\": \"detective\",\n",
      "  \"action\": \"🔎 🔍 examining a document with a magnifying glass\",\n",
      "  \"city\": \"N/A\"\n",
      "}\n",
      "```"
     ]
    }
   ],
   "source": [
    "prompt = \"\"\"\n",
    "Answer the following questions using the video only:\n",
    "What is the profession of the main person?\n",
    "What is he doing he doing exactly?\n",
    "Which city was this recorded in?\n",
    "Provide the answer JSON.\n",
    "\"\"\"\n",
    "video = convert_file_to_data(\n",
    "    file_path=\"./Artifacts/sample_videos/person_doing_something.mp4\",\n",
    "    mime_type=\"video/mp4\",\n",
    ")\n",
    "contents = [prompt, video]\n",
    "\n",
    "responses = multimodal_model.generate_content(contents, stream=True)\n",
    "\n",
    "\n",
    "print(\"\\n-------Response--------\")\n",
    "for response in responses:\n",
    "    print(response.text, end=\"\")"
   ]
  },
  {
   "cell_type": "code",
   "execution_count": 17,
   "metadata": {},
   "outputs": [
    {
     "data": {
      "text/html": [
       "<video src=\"./Artifacts/sample_videos/car_in_mountainous_area.mp4\" controls  >\n",
       "      Your browser does not support the <code>video</code> element.\n",
       "    </video>"
      ],
      "text/plain": [
       "<IPython.core.display.Video object>"
      ]
     },
     "execution_count": 17,
     "metadata": {},
     "output_type": "execute_result"
    }
   ],
   "source": [
    "from IPython.display import Video\n",
    "\n",
    "Video(\"./Artifacts/sample_videos/car_in_mountainous_area.mp4\")"
   ]
  },
  {
   "cell_type": "code",
   "execution_count": 10,
   "metadata": {},
   "outputs": [
    {
     "name": "stdout",
     "output_type": "stream",
     "text": [
      "\n",
      "-------Response--------\n",
      " The location is a road in Ireland called the Ring of Kerry. The road is located in County Kerry, in the southwest of Ireland. The road winds its way through the Iveragh Peninsula, and offers stunning views of the Atlantic Ocean, the mountains, and the lakes of Killarney. The road is a popular tourist destination, and is often used as a starting point for exploring the Ring of Kerry.\n",
      "\n",
      "The lane will lead the car to the town of Killarney. Killarney is a town in County Kerry, Ireland. The town is located on the shores of Lough Leane, and is a popular tourist destination. Killarney is home to a number of historical sites, including Ross Castle and Muckross House. The town is also home to a number of shops, restaurants, and bars."
     ]
    }
   ],
   "source": [
    "prompt_1 = \"Which location is this?\"\n",
    "prompt_2 = \"Where the lane will lead to the car?\"\n",
    "prompt_3 = \"List all of the nearby towns that is ahead of the vehicle.\"\n",
    "\n",
    "video = convert_file_to_data(\n",
    "    file_path=\"./Artifacts/sample_videos/car_in_mountainous_area.mp4\",\n",
    "    mime_type=\"video/mp4\",\n",
    ")\n",
    "contents = [prompt_1, prompt_2, prompt_3, video]\n",
    "\n",
    "responses = multimodal_model.generate_content(contents, stream=True)\n",
    "\n",
    "print(\"\\n-------Response--------\")\n",
    "for response in responses:\n",
    "    print(response.text, end=\"\")"
   ]
  },
  {
   "cell_type": "code",
   "execution_count": null,
   "metadata": {},
   "outputs": [],
   "source": []
  }
 ],
 "metadata": {
  "kernelspec": {
   "display_name": "base",
   "language": "python",
   "name": "python3"
  },
  "language_info": {
   "codemirror_mode": {
    "name": "ipython",
    "version": 3
   },
   "file_extension": ".py",
   "mimetype": "text/x-python",
   "name": "python",
   "nbconvert_exporter": "python",
   "pygments_lexer": "ipython3",
   "version": "3.9.13"
  }
 },
 "nbformat": 4,
 "nbformat_minor": 2
}
